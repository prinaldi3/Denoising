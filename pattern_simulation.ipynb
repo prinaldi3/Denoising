{
  "nbformat": 4,
  "nbformat_minor": 0,
  "metadata": {
    "kernelspec": {
      "display_name": "XCA",
      "language": "python",
      "name": "xca"
    },
    "language_info": {
      "codemirror_mode": {
        "name": "ipython",
        "version": 3
      },
      "file_extension": ".py",
      "mimetype": "text/x-python",
      "name": "python",
      "nbconvert_exporter": "python",
      "pygments_lexer": "ipython3",
      "version": "3.9.6"
    },
    "colab": {
      "name": "pattern_simulation.ipynb",
      "provenance": [],
      "include_colab_link": true
    }
  },
  "cells": [
    {
      "cell_type": "markdown",
      "metadata": {
        "id": "view-in-github",
        "colab_type": "text"
      },
      "source": [
        "<a href=\"https://colab.research.google.com/github/prinaldi3/Denoising/blob/main/pattern_simulation.ipynb\" target=\"_parent\"><img src=\"https://colab.research.google.com/assets/colab-badge.svg\" alt=\"Open In Colab\"/></a>"
      ]
    },
    {
      "cell_type": "code",
      "metadata": {
        "id": "FW9E1x2hiiwF"
      },
      "source": [
        "import sys\n",
        "sys.path.append('/home/pmm/Development/xca')\n",
        "from xca.data_synthesis.builder import cycle_params\n",
        "from pathlib import Path\n",
        "from xca.examples.arxiv200800283.example_synthesis import log_reflections\n",
        "import numpy as np\n",
        "import os\n",
        "import json\n",
        "import collections"
      ],
      "execution_count": null,
      "outputs": []
    },
    {
      "cell_type": "markdown",
      "metadata": {
        "id": "i0XSbgTwiiwP"
      },
      "source": [
        "\n",
        "# Parameters\n",
        "Some parameters are randomized by default by the function args in cycle_params. Any other parameter can be cycled by feeding a corresponding keyword arg and tuple of (min,max). \n",
        "\n",
        "Adding constant shift to background as option. "
      ]
    },
    {
      "cell_type": "code",
      "metadata": {
        "id": "PNkwngmUiiwR"
      },
      "source": [
        "# Number of profiles per structure\n",
        "n_profs = 10\n",
        "out_dir = './'\n",
        "cif_paths = list(Path('../../refined_cifs/').glob(\"*.cif\"))\n",
        "output_path = Path('./xarrays')\n",
        "output_path.mkdir(parents=True, exist_ok=True)\n",
        "xr_path = output_path\n",
        "tfr_path = \"BTO_sim.tfrecord\"\n",
        "param_dict = {'wavelength': 0.1671,\n",
        "              'noise_std' :0.,\n",
        "             'instrument_radius' : 1065.8822732979447,\n",
        "             'theta_m' : 0.0,\n",
        "             'tth_min' : 0.01,\n",
        "             'tth_max' : 12.0,\n",
        "             'n_datapoints' : 1750}\n",
        "kwargs = {'bkg_1': (-1e-4,1e-4),\n",
        "          'bkg_0': (0, 1e-3)}\n",
        "\n",
        "\n"
      ],
      "execution_count": null,
      "outputs": []
    },
    {
      "cell_type": "code",
      "metadata": {
        "id": "GGU4Sl83iiwS"
      },
      "source": [
        "mapping = {cif.stem:i for i, cif in enumerate(cif_paths)}\n",
        "print(mapping)"
      ],
      "execution_count": null,
      "outputs": []
    },
    {
      "cell_type": "code",
      "metadata": {
        "id": "ohZRgKRviiwV"
      },
      "source": [
        "for cif in cif_paths:\n",
        "    print(cif)\n",
        "    phase = cif.stem\n",
        "    param_dict['input_cif'] = cif\n",
        "    cycle_params(n_profs,\n",
        "                 output_path,\n",
        "                 input_params=param_dict, \n",
        "                 march_range=(0.999,1),\n",
        "                 sample_height=(-0.01,0.01),\n",
        "                 shape_limit=0.002,\n",
        "                 preferred_axes=None,\n",
        "                 n_jobs=58, \n",
        "                 **kwargs)"
      ],
      "execution_count": null,
      "outputs": []
    },
    {
      "cell_type": "code",
      "metadata": {
        "id": "imaF_A2SiiwW"
      },
      "source": [
        "from xca.ml.tf_data_proc import xr_dir_to_record, _int64_feature\n",
        "xr_dir_to_record(xr_path, tfr_path, \"input_cif\",\n",
        "                transform = lambda x: _int64_feature(mapping[x]),\n",
        "                shuffle=True)"
      ],
      "execution_count": null,
      "outputs": []
    },
    {
      "cell_type": "code",
      "metadata": {
        "id": "GiC4pTBFiiwX"
      },
      "source": [
        "path = list(output_path.glob(\"*.nc\"))[0]"
      ],
      "execution_count": null,
      "outputs": []
    },
    {
      "cell_type": "code",
      "metadata": {
        "id": "8xxog_fLiiwZ"
      },
      "source": [
        "import matplotlib.pyplot as plt\n",
        "import xarray as xr\n",
        "import numpy as np\n",
        "da = xr.open_dataarray(path)"
      ],
      "execution_count": null,
      "outputs": []
    },
    {
      "cell_type": "code",
      "metadata": {
        "id": "l4UByAUxiiwa"
      },
      "source": [
        "da"
      ],
      "execution_count": null,
      "outputs": []
    },
    {
      "cell_type": "code",
      "metadata": {
        "id": "K3RTOuYiiiwc"
      },
      "source": [
        "np.max(da.coords[\"2theta\"].data)"
      ],
      "execution_count": null,
      "outputs": []
    },
    {
      "cell_type": "code",
      "metadata": {
        "id": "h3qpSnP_iiwd"
      },
      "source": [
        "da.plot()"
      ],
      "execution_count": null,
      "outputs": []
    }
  ]
}