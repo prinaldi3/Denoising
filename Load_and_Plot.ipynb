{
  "nbformat": 4,
  "nbformat_minor": 0,
  "metadata": {
    "colab": {
      "name": "Load and Plot.ipynb",
      "provenance": [],
      "authorship_tag": "ABX9TyOcjDZErOhaBDr2NhpoJPPA",
      "include_colab_link": true
    },
    "kernelspec": {
      "name": "python3",
      "display_name": "Python 3"
    },
    "language_info": {
      "name": "python"
    }
  },
  "cells": [
    {
      "cell_type": "markdown",
      "metadata": {
        "id": "view-in-github",
        "colab_type": "text"
      },
      "source": [
        "<a href=\"https://colab.research.google.com/github/prinaldi3/Denoising/blob/main/Load_and_Plot.ipynb\" target=\"_parent\"><img src=\"https://colab.research.google.com/assets/colab-badge.svg\" alt=\"Open In Colab\"/></a>"
      ]
    },
    {
      "cell_type": "markdown",
      "metadata": {
        "id": "ovshGVcO0UJh"
      },
      "source": [
        "This notebook is simply designed to load a trained model (from checkpoints) and then plot reconstructions"
      ]
    },
    {
      "cell_type": "code",
      "metadata": {
        "id": "4q8TXN-C0d2X"
      },
      "source": [
        "from google.colab import drive\n",
        "drive.mount('/content/gdrive')"
      ],
      "execution_count": null,
      "outputs": []
    },
    {
      "cell_type": "code",
      "metadata": {
        "id": "WAN7VgdK0lcZ"
      },
      "source": [
        "!python -m pip install pip==21.0.1"
      ],
      "execution_count": null,
      "outputs": []
    },
    {
      "cell_type": "code",
      "metadata": {
        "id": "aXcF0_jS0nga"
      },
      "source": [
        "!rm -rf xca\n",
        "!git clone https://github.com/maffettone/xca"
      ],
      "execution_count": null,
      "outputs": []
    },
    {
      "cell_type": "code",
      "metadata": {
        "id": "0E4iKqQ80qce"
      },
      "source": [
        "%%bash\n",
        "cd xca\n",
        "python -m pip install ."
      ],
      "execution_count": null,
      "outputs": []
    },
    {
      "cell_type": "code",
      "metadata": {
        "id": "jcMh2u5G0qzQ"
      },
      "source": [
        "#Importing from XCA package\n",
        "\n",
        "import xca\n",
        "import numpy as np\n",
        "import tensorflow as tf\n",
        "import matplotlib.pyplot as plt\n",
        "from xca.ml.tf_models import build_CNN_encoder_model, build_CNN_decoder_model, VAE_denoising_training, VAE"
      ],
      "execution_count": null,
      "outputs": []
    },
    {
      "cell_type": "code",
      "metadata": {
        "id": "A9e1sjZ0G8ht"
      },
      "source": [
        "dataset_paths = ['specify_path_here']"
      ],
      "execution_count": null,
      "outputs": []
    },
    {
      "cell_type": "code",
      "metadata": {
        "id": "PRSe0MuM0uKm"
      },
      "source": [
        "#Define and load model -- currently configured to Guassian dataset\n",
        "encoder, last_conv_shape = build_CNN_encoder_model(data_shape=(500,1), latent_dim=100, dense_dims=[], filters=[32, 32, 16], kernel_sizes=[16, 16, 16],  strides=[1, 1, 1], pool_sizes=[1, 1, 1], paddings=[\"same\"]*3, verbose=True)\n",
        "\n",
        "decoder = build_CNN_decoder_model(data_shape=(500,1), latent_dim=100, last_conv_layer_shape=last_conv_shape, filters = [16, 32, 32], kernel_sizes=[16, 16, 16], strides=[1, 1, 1], paddings=[\"same\"]*4, verbose=True)\n",
        "vae = VAE(encoder, decoder, 0.)\n",
        "\n",
        "cnn_checkpoint_path = '/content/gdrive/MyDrive/guassian_denoise_95/training_checkpoints' \n",
        "checkpoint = tf.train.Checkpoint(model=vae)\n",
        "checkpoint.restore(tf.train.latest_checkpoint(cnn_checkpoint_path))"
      ],
      "execution_count": null,
      "outputs": []
    },
    {
      "cell_type": "code",
      "metadata": {
        "id": "Bcz-m_tv1JiE"
      },
      "source": [
        "from xca.ml.tf_data_proc import build_dataset\n",
        "\n",
        "#Build dataset (create noisy data) -- configured for Guassian dataset\n",
        "batch_size=128\n",
        "def preprocess(data, label):\n",
        "        X = tf.cast(data, tf.float32)\n",
        "        X = (X - tf.math.reduce_min(X, axis=0, keepdims=True)) / (\n",
        "            tf.math.reduce_max(X, axis=0, keepdims=True) - tf.math.reduce_min(X, axis=0, keepdims=True)\n",
        "        )\n",
        "        noisy = tf.cast(data, tf.float32) + tf.random.normal(\n",
        "            data.shape,\n",
        "            stddev=10 ** np.random.uniform(-1, -.5),\n",
        "            dtype=tf.float32,\n",
        "        )\n",
        "        noisy = (noisy - tf.math.reduce_min(noisy, axis=0, keepdims=True)) / (\n",
        "            tf.math.reduce_max(noisy, axis=0, keepdims=True) - tf.math.reduce_min(noisy, axis=0, keepdims=True)\n",
        "        )\n",
        "        return {\"X\": X, \"X_noisy\": noisy, \"label\": label}\n",
        "\n",
        "data,_ = build_dataset(\n",
        "        dataset_paths=dataset_paths,\n",
        "        batch_size=batch_size,\n",
        "        multiprocessing=1,\n",
        "        categorical=True,\n",
        "        val_split=0.0,\n",
        "        data_shape=(500,1),\n",
        "        preprocess=preprocess,\n",
        "    )\n"
      ],
      "execution_count": null,
      "outputs": []
    },
    {
      "cell_type": "code",
      "metadata": {
        "id": "1tCNkXh30-Ll"
      },
      "source": [
        "#Plot reconstructions\n",
        "\n",
        "for batch in data:\n",
        "  output = vae(batch[\"X_noisy\"], training=False) #apply trained denoiser to the noisy data\n",
        "  X_denoise = output[\"reconstruction\"][0] #alter this index to see different samples (but don't exceed batch_size-1 !)\n",
        "  X = batch[\"X\"][0]\n",
        "  X_noisy = batch[\"X_noisy\"][0]\n",
        "  label = batch[\"label\"][0]\n",
        "\n",
        "  fig, ax = plt.subplots(figsize=(10, 10))\n",
        "  ax.plot(X_noisy+1.2, label=\"Raw\", color='gray')\n",
        "  ax.plot(X + .2, label=\"True\", color='k')\n",
        "  ax.plot(X_denoise+.2, 'r--', label=\"Denoise\")\n",
        "  ax.plot(abs(X-X_denoise), color='b', label=\"Residual\")\n",
        "  ax.set_title(\"Comparison of True and Denoised Patterns\")\n",
        "  ax.set_xlabel(\"Pixel #\")\n",
        "  ax.set_ylabel(\"Intensity [Arb.]\")\n",
        "  ax.get_yaxis().set_ticks([])\n",
        "\n",
        "  plt.rc('font', size=20)          # controls default text sizes\n",
        "  plt.rc('axes', titlesize=15)     # fontsize of the axes title\n",
        "  plt.rc('axes', labelsize=15)    # fontsize of the x and y labels\n",
        "  plt.rc('figure', titlesize=20)  # fontsize of the figure title\n",
        "  #fig.savefig('/content/gdrive/MyDrive/poster_figs/guassian_reconstruction', facecolor='white')\n",
        "  plt.legend()\n",
        "  break"
      ],
      "execution_count": null,
      "outputs": []
    }
  ]
}