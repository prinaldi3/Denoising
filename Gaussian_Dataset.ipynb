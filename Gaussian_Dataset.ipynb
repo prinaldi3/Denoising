{
  "nbformat": 4,
  "nbformat_minor": 0,
  "metadata": {
    "colab": {
      "name": "Guassian_Dataset.ipynb",
      "provenance": [],
      "authorship_tag": "ABX9TyMJpRi1+e2TcTDda9zd7XGc",
      "include_colab_link": true
    },
    "kernelspec": {
      "name": "python3",
      "display_name": "Python 3"
    },
    "language_info": {
      "name": "python"
    }
  },
  "cells": [
    {
      "cell_type": "markdown",
      "metadata": {
        "id": "view-in-github",
        "colab_type": "text"
      },
      "source": [
        "<a href=\"https://colab.research.google.com/github/prinaldi3/Denoising/blob/main/Gaussian_Dataset.ipynb\" target=\"_parent\"><img src=\"https://colab.research.google.com/assets/colab-badge.svg\" alt=\"Open In Colab\"/></a>"
      ]
    },
    {
      "cell_type": "code",
      "metadata": {
        "id": "tSoAwu4B4vr4"
      },
      "source": [
        "from google.colab import drive\n",
        "drive.mount('/content/gdrive')"
      ],
      "execution_count": null,
      "outputs": []
    },
    {
      "cell_type": "code",
      "metadata": {
        "id": "adlZS5uf40El"
      },
      "source": [
        "!python -m pip install pip==21.0.1"
      ],
      "execution_count": null,
      "outputs": []
    },
    {
      "cell_type": "code",
      "metadata": {
        "id": "weEB7x_Z41iB"
      },
      "source": [
        "!rm -rf xca\n",
        "!git clone https://github.com/maffettone/xca"
      ],
      "execution_count": null,
      "outputs": []
    },
    {
      "cell_type": "code",
      "metadata": {
        "id": "nBE4c7ls43A7"
      },
      "source": [
        "%%bash\n",
        "cd xca\n",
        "python -m pip install ."
      ],
      "execution_count": null,
      "outputs": []
    },
    {
      "cell_type": "code",
      "metadata": {
        "id": "0GssqoZl5quM"
      },
      "source": [
        "import numpy as np\n",
        "import matplotlib.pyplot as plt\n",
        "import xca"
      ],
      "execution_count": null,
      "outputs": []
    },
    {
      "cell_type": "code",
      "metadata": {
        "id": "jm34HMRo5vn0"
      },
      "source": [
        "#Function to generate guassian \n",
        "\n",
        "def guassian(x, mu, sig):\n",
        "  return (1 / (sig * np.sqrt(2*np.pi))) * np.exp(-1/2 * ((x - mu)/sig)**2)\n"
      ],
      "execution_count": null,
      "outputs": []
    },
    {
      "cell_type": "code",
      "metadata": {
        "id": "_owQa3Jp_5SK"
      },
      "source": [
        "from random import random\n",
        "from scipy.interpolate import UnivariateSpline\n",
        "\n",
        "#Generate dataset\n",
        "\n",
        "#Hyperparams \n",
        "x_min = -10\n",
        "x_max = 10\n",
        "n_points = 500\n",
        "n_samples = 100\n",
        "x = np.linspace(x_min, x_max, n_points)\n",
        "pixel_width = (x_max - x_min) / n_points\n",
        "\n",
        "fwhm = 0 #full width half max\n",
        "y = [] #this will ultimately be the data\n",
        "\n",
        "for i in range(n_samples):\n",
        "  #Compute random centers that are sufficiently seperated (i.e. on either sides of the origin)\n",
        "  mu_1 = (x_min + 1) + random() * ( 0 - (x_min + 1) )\n",
        "  mu_2 = random() * (x_max - 1)\n",
        "\n",
        "  #Compute generally narrow spreads -- adjust as needed to control FWHM\n",
        "  sig_1 = np.random.uniform(.42, .46)\n",
        "  sig_2 = np.random.uniform(.42, .46)\n",
        "\n",
        "  y_1 = guassian(x, mu_1, sig_1)\n",
        "  y_2 = guassian(x, mu_2, sig_2)\n",
        "\n",
        "  #Calculate Full Width Half Max of each peak, append to list for later averaging\n",
        "  spline_1 = UnivariateSpline(x, y_1-np.max(y_1)/2, s=0)\n",
        "  r1_1, r2_1 = spline_1.roots()\n",
        "  fwhm += abs(r2_1 - r1_1)\n",
        "\n",
        "  spline_2 = UnivariateSpline(x, y_2 - np.max(y_2)/2, s=0)\n",
        "  r1_2, r2_2 = spline_2.roots()\n",
        "  fwhm += abs(r2_2 - r1_2)\n",
        "\n",
        "  sample = y_1 + y_2\n",
        "  y.append(sample)\n",
        "\n",
        "y = np.array(y)\n",
        "avg_fwhm = fwhm / (2*n_samples) #two guassians per sample, so it's 2*n_samples\n",
        "avg_fwhm = int(avg_fwhm/pixel_width)\n",
        "print(\"Average FWHM: {}\".format(avg_fwhm))"
      ],
      "execution_count": null,
      "outputs": []
    },
    {
      "cell_type": "code",
      "metadata": {
        "id": "-IYmfVigg1mv"
      },
      "source": [
        "#Example plot of guassians\n",
        "\n",
        "fig, ax = plt.subplots()\n",
        "plt.rc('font', size=20)          # controls default text sizes\n",
        "plt.rc('axes', titlesize=15)     # fontsize of the axes title\n",
        "plt.rc('axes', labelsize=15)    # fontsize of the x and y labels\n",
        "ax.plot(x, y[1])\n",
        "ax.set_title(\"Average FWHM={} Pixels\".format(avg_fwhm))\n",
        "ax.set_xlabel(\"Pixels\")\n",
        "ax.set_ylabel(\"Intensity [Arb.]\")\n",
        "#fig.savefig(\"/content/gdrive/MyDrive/Final_Plots/guassian_sample_fwhm_{}\".format(avg_fwhm), facecolor=\"white\")"
      ],
      "execution_count": null,
      "outputs": []
    },
    {
      "cell_type": "code",
      "metadata": {
        "id": "giqNHLH8AqtJ"
      },
      "source": [
        "#Save the data to .npy\n",
        "\n",
        "from pathlib import Path\n",
        "for i in range(len(y)):\n",
        "  np.save('change_this_path_as_needed'.format(i), y[i])"
      ],
      "execution_count": null,
      "outputs": []
    },
    {
      "cell_type": "code",
      "metadata": {
        "id": "PLp6PS3JWZxK"
      },
      "source": [
        "from xca.ml.tf_data_proc import np_dir_to_record\n",
        "\n",
        "#Make tfrecords file \n",
        "npy_path = Path('change_this_path_as_needed')\n",
        "tfr_path = Path('change_this_path_as_needed')\n",
        "np_dir_to_record(npy_path=npy_path, tfr_path=tfr_path)\n"
      ],
      "execution_count": null,
      "outputs": []
    }
  ]
}